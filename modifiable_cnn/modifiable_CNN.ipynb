{
 "cells": [
  {
   "cell_type": "markdown",
   "metadata": {},
   "source": [
    "# Prepare dataset"
   ]
  },
  {
   "cell_type": "code",
   "execution_count": null,
   "metadata": {},
   "outputs": [],
   "source": [
    "import cv2\n",
    "import os\n",
    "import matplotlib.pyplot as plt\n",
    "import numpy\n",
    "import random\n",
    "import pickle\n",
    "import math\n",
    "import sklearn\n",
    "\n",
    "training_data = []\n",
    "directory = r'' # path to dataset directory here (parent of the image folders)\n",
    "labels = ['label1', 'label2']\n",
    "image_size = 100\n",
    "perc_test = 20\n",
    "\n",
    "def create_training_data():\n",
    "    for label in labels:\n",
    "        path = os.path.join(directory, label) # point correct label to correct folder\n",
    "        class_number = labels.index(label)\n",
    "        for img in os.listdir(path):\n",
    "            try:\n",
    "                img_array = cv2.imread(os.path.join(path, img), cv2.IMREAD_GRAYSCALE)\n",
    "                img_array = cv2.resize(img_array, (image_size, image_size))\n",
    "                training_data.append([img_array, class_number])\n",
    "            except Exception as e:\n",
    "                print(e)\n",
    "\n",
    "create_training_data()\n",
    "random.shuffle(training_data)"
   ]
  },
  {
   "cell_type": "code",
   "execution_count": null,
   "metadata": {},
   "outputs": [],
   "source": [
    "# Save dataset as pickle\n",
    "\n",
    "X = []\n",
    "y = []\n",
    "\n",
    "for feature, label in training_data:\n",
    "    X.append(feature)\n",
    "    y.append(label)\n",
    "\n",
    "X = numpy.array(X).reshape(-1, image_size, image_size, 1)\n",
    "training_x = X[: int(len(X) - perc_test * len(X) / 100.0)]; test_x = X[int(len(X) - perc_test * len(X) / 100.0) :]\n",
    "training_y = y[: int(len(X) - perc_test * len(X) / 100.0)]; test_y = y[int(len(X) - perc_test * len(X) / 100.0) :]\n",
    "\n",
    "#train_x, test_x = sklearn.model_selection.train_test_split(X)\n",
    "\n",
    "pickle_out = open(\"training_x.pickle\",\"wb\")\n",
    "pickle.dump(training_x, pickle_out)\n",
    "pickle_out.close()\n",
    "\n",
    "pickle_out = open(\"test_x.pickle\",\"wb\")\n",
    "pickle.dump(test_x, pickle_out)\n",
    "pickle_out.close()\n",
    "\n",
    "pickle_out = open(\"training_y.pickle\",\"wb\")\n",
    "pickle.dump(training_y, pickle_out)\n",
    "pickle_out.close()\n",
    "\n",
    "pickle_out = open(\"test_y.pickle\",\"wb\")\n",
    "pickle.dump(test_y, pickle_out)\n",
    "pickle_out.close()\n",
    "\n",
    "#print(training_x.shape, training_y.shape, test_x.shape, test_y.shape)"
   ]
  },
  {
   "cell_type": "markdown",
   "metadata": {},
   "source": [
    "# Build, evaluate and save model"
   ]
  },
  {
   "cell_type": "code",
   "execution_count": null,
   "metadata": {},
   "outputs": [],
   "source": [
    "import tensorflow\n",
    "from tensorflow.keras import layers\n",
    "from tensorflow.keras import models\n",
    "from tensorflow.keras.callbacks import TensorBoard\n",
    "import time\n",
    "\n",
    "model_name='test-{}'.format(time.time())\n",
    "\n",
    "gpu_options = tensorflow.GPUOptions(per_process_gpu_memory_fraction=0.333)\n",
    "sess = tensorflow.Session(config=tensorflow.ConfigProto(gpu_options=gpu_options))\n",
    "\n",
    "model = models.Sequential()\n",
    "model.add(layers.Conv2D(256, (3, 3), activation='relu', input_shape=(image_size, image_size, 1)))\n",
    "model.add(layers.MaxPooling2D((2, 2)))\n",
    "model.add(layers.Conv2D(128, (3, 3), activation='relu'))\n",
    "model.add(layers.MaxPooling2D((2, 2)))\n",
    "model.add(layers.Conv2D(128, (3, 3), activation='relu'))\n",
    "model.add(layers.MaxPooling2D((2, 2)))\n",
    "model.add(layers.Conv2D(64, (3, 3), activation='relu'))\n",
    "model.add(layers.MaxPooling2D((2, 2)))\n",
    "model.add(layers.Flatten())\n",
    "model.add(layers.Dense(64, activation='relu'))\n",
    "model.add(layers.Dense(len(labels), activation='softmax'))\n",
    "\n",
    "#model.summary()\n",
    "\n",
    "tensorboard = TensorBoard(log_dir=\"logs/{}\".format(model_name))\n",
    "\n",
    "model.compile(loss='sparse_categorical_crossentropy',\n",
    "             optimizer='adam',\n",
    "             metrics=['accuracy'])\n",
    "\n",
    "# Load the pickle files:\n",
    "pickle_in = open(\"training_x.pickle\", \"rb\")\n",
    "training_x = pickle.load(pickle_in)  # training images \n",
    "#training_x = tensorflow.keras.utils.normalize(training_x, axis=1)\n",
    "training_x = training_x / 255.0\n",
    "\n",
    "pickle_in = open(\"training_y.pickle\", \"rb\")\n",
    "training_y = pickle.load(pickle_in)  # training labels\n",
    "\n",
    "pickle_in = open(\"test_x.pickle\", \"rb\")\n",
    "test_x = pickle.load(pickle_in)  # test images \n",
    "#test_x = tensorflow.keras.utils.normalize(test_x, axis=1)\n",
    "test_x = test_x / 255.0\n",
    "\n",
    "pickle_in = open(\"test_y.pickle\", \"rb\")\n",
    "test_y = pickle.load(pickle_in)  # test labels\n",
    "\n",
    "model.fit(training_x, training_y, batch_size=64, epochs=5, validation_split=0.2, callbacks=[tensorboard])\n",
    "\n",
    "# Should also evaluate model\n",
    "test_loss, test_acc = model.evaluate(test_x, test_y)\n",
    "print('Loss: {}, Accuracy: {}'.format(test_loss, test_acc))\n",
    "\n",
    "model.save('{}.model'.format(model_name))"
   ]
  },
  {
   "cell_type": "markdown",
   "metadata": {},
   "source": [
    "# Test model"
   ]
  },
  {
   "cell_type": "code",
   "execution_count": null,
   "metadata": {},
   "outputs": [],
   "source": [
    "def prepare(path):\n",
    "    img_array = cv2.imread(path, cv2.IMREAD_GRAYSCALE)\n",
    "    img_array = cv2.resize(img_array, (image_size, image_size))\n",
    "    return img_array.reshape(-1, image_size, image_size, 1)\n",
    "\n",
    "\n",
    "model = tensorflow.keras.models.load_model('test1.model')\n",
    "path = r'' # path to test images here\n",
    "\n",
    "predictions = model.predict([prepare(path)])\n",
    "print(labels[numpy.argmax(predictions[0])])"
   ]
  }
 ],
 "metadata": {
  "kernelspec": {
   "display_name": "Python 3",
   "language": "python",
   "name": "python3"
  },
  "language_info": {
   "codemirror_mode": {
    "name": "ipython",
    "version": 3
   },
   "file_extension": ".py",
   "mimetype": "text/x-python",
   "name": "python",
   "nbconvert_exporter": "python",
   "pygments_lexer": "ipython3",
   "version": "3.6.8"
  }
 },
 "nbformat": 4,
 "nbformat_minor": 2
}
