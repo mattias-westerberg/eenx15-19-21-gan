{
 "cells": [
  {
   "cell_type": "code",
   "execution_count": 2,
   "metadata": {},
   "outputs": [],
   "source": [
    "'''GAN'''\n",
    "\n",
    "#Import necessery packages\n",
    "\n",
    "try:\n",
    "    import numpy as np\n",
    "    import torch\n",
    "    import torch.nn as nn\n",
    "    import torch.optim as optim\n",
    "    from torch.autograd import Variable\n",
    "    from matplotlib import pyplot as plt\n",
    "except ImportError:\n",
    "    print(\"Packages could not be imported\")\n",
    "    matplotlib_is_available = False\n",
    "\n"
   ]
  },
  {
   "cell_type": "code",
   "execution_count": 58,
   "metadata": {},
   "outputs": [],
   "source": [
    "#Set the function parameters and other data\n",
    "data_mean = 4\n",
    "data_stddev = 1.25\n",
    "\n",
    "g_input_size = 1      # Random noise dimension coming into generator, per output vector\n",
    "g_hidden_size = 5     # Generator complexity\n",
    "g_output_size = 1     # Size of generated output vector\n",
    "d_input_size = 500    # Minibatch size - cardinality of distributions\n",
    "d_hidden_size = 10    # Discriminator complexity\n",
    "d_output_size = 1     # Single dimension for 'real' vs. 'fake' classification\n",
    "\n",
    "minibatch_size = d_input_size"
   ]
  },
  {
   "cell_type": "markdown",
   "metadata": {},
   "source": [
    "\n",
    "\n",
    "\\begin{align}\n",
    "\\text{standard deviation} = \\sqrt{\\frac{1}{N} \\sum_{i=1}^N (x_i - \\overline{x})^2} \\newline\n",
    "\\text{var} = \\frac{1}{N} \\sum_{i=1}^N (\\text{diffs})^2 \\newline\n",
    "\\text{std = stamdard deviation} = \\sqrt{\\frac{1}{N} \\sum_{i=1}^N (\\text{diffs})^2} \\newline\n",
    "\\text{zscores} = \\frac{\\text{diffs}}{\\text{std}} \\newline\n",
    "\\text{skews} = \\frac{\\sum_{i=1}^N \\text{zscores}_i^3}{N} \\newline\n",
    "kurtoses = mean(zscores^4)-3 \\newline\n",
    "\\text{final} = (mean value, standard deviation, skews, kurtoses)\n",
    "\\end{align}\n",
    " \n",
    " zscores is how much each datapoint differs from the standard deviation.\n",
    " \n",
    " Skews is the mean difference raised by 3 (for some reason, probbably just a working number).\n",
    " \n",
    " Kurtoses is the mean difference raised by 4 and subtracted with 3. \n",
    " \n",
    "Skews and kurtoses could can be compared with the loss of the input data.\n",
    " \n",
    " Theese numbers are saved in an list \"final\"."
   ]
  },
  {
   "cell_type": "code",
   "execution_count": 61,
   "metadata": {},
   "outputs": [],
   "source": [
    "#Define preprocess function \n",
    "\n",
    "def get_moments(d):\n",
    "    # Return the first 4 moments of the data provided\n",
    "    mean = torch.mean(d)\n",
    "    diffs = d - mean #Calculate difference between each value and the mean of the values\n",
    "    var = torch.mean(torch.pow(diffs, 2.0)) #torch.pow(diffs, 2.0) is same as diff**2 for every element\n",
    "    std = torch.pow(var, 0.5) \n",
    "    zscores = diffs / std\n",
    "    skews = torch.mean(torch.pow(zscores, 3.0))\n",
    "    kurtoses = torch.mean(torch.pow(zscores, 4.0)) - 3.0  # excess kurtosis, should be 0 for Gaussian\n",
    "    final = torch.cat((mean.reshape(1,), std.reshape(1,), skews.reshape(1,), kurtoses.reshape(1,)))\n",
    "    return final\n",
    "\n",
    "\n",
    "\n",
    "### Select preprocess to be get_moments(d) and discriminator input function to be x=4\n",
    "\n",
    "(name, preprocess, d_input_func) = (\"Only 4 moments\", lambda data: get_moments(data), lambda x: 4)\n",
    "\n"
   ]
  },
  {
   "cell_type": "code",
   "execution_count": 70,
   "metadata": {},
   "outputs": [
    {
     "name": "stdout",
     "output_type": "stream",
     "text": [
      "tensor([3.8909, 1.2413, 0.1579, 0.1176])\n"
     ]
    },
    {
     "data": {
      "image/png": "[encoded data removed]",
      "text/plain": [
       "<Figure size 432x288 with 1 Axes>"
      ]
     },
     "metadata": {
      "needs_background": "light"
     },
     "output_type": "display_data"
    }
   ],
   "source": [
    "# ##### Provide accurate data from the distributionfunction\n",
    "\n",
    "def get_distribution_sampler(mu, sigma):\n",
    "    return lambda n: torch.Tensor(np.random.normal(mu, sigma, (1, n)))  # Gaussian\n",
    "\n",
    "dist_func = get_distribution_sampler(data_mean, data_stddev)\n",
    "\n",
    "\n",
    "dist_real_data = dist_func(d_input_size)\n",
    "\n",
    "print(preprocess(dist_real_data))\n",
    "\n",
    "plt.hist(dist_real_data)\n",
    "plt.xlabel(\"Distribution samples\")\n",
    "plt.legend(['Bell curve: \\n Mean = 4 \\n Deviatiation = 1.25'], loc='best')\n",
    "plt.show()"
   ]
  },
  {
   "cell_type": "code",
   "execution_count": 33,
   "metadata": {},
   "outputs": [],
   "source": [
    "'''Construct class Generator'''\n",
    "\n",
    "class Generator(nn.Module):\n",
    "    def __init__(self, input_size, hidden_size, output_size, f):  #Input generator input size, generator complexity \n",
    "        super(Generator, self).__init__()                     #Output size and torch.tanh function (1 dimension in input and output)\n",
    "        self.map1 = nn.Linear(input_size, hidden_size) #The sizes are the weigths and biases\n",
    "        self.map2 = nn.Linear(hidden_size, hidden_size)\n",
    "        self.map3 = nn.Linear(hidden_size, output_size)\n",
    "        self.f = f\n",
    "        '''Applies a linear transformation to the incoming data: y = xA^T + b\n",
    "        Parameters:\t\n",
    "        in_features – size of each input sample\n",
    "        out_features – size of each output sample'''\n",
    "    def forward(self, x):   #Calculating size of inpput, hidden and output - layers. Using forward propegation\n",
    "        x = self.map1(x)\n",
    "        x = self.f(x)\n",
    "        x = self.map2(x)\n",
    "        x = self.f(x)\n",
    "        x = self.map3(x)\n",
    "        return x\n",
    "    \n",
    "        #Explination of input/output from nn.Linear method\n",
    "        '''Input: (N, *, in_features) where * means any number of additional dimensions\n",
    "            Output: (N, *, out_features) where all but the last dimension are the same shape as the input.'''\n",
    "        \n",
    "        '''Futher explination about the torch.nn.Linear'''\n",
    "        '''https://pytorch.org/docs/stable/nn.html#linear'''"
   ]
  },
  {
   "cell_type": "code",
   "execution_count": 34,
   "metadata": {},
   "outputs": [],
   "source": [
    "'''Construct class Discriminator'''\n",
    "class Discriminator(nn.Module):\n",
    "    def __init__(self, input_size, hidden_size, output_size, f):\n",
    "        super(Discriminator, self).__init__()\n",
    "        self.map1 = nn.Linear(input_size, hidden_size)\n",
    "        self.map2 = nn.Linear(hidden_size, hidden_size)\n",
    "        self.map3 = nn.Linear(hidden_size, output_size)\n",
    "        self.f = f\n",
    "\n",
    "    def forward(self, x):\n",
    "        x = self.f(self.map1(x))\n",
    "        x = self.f(self.map2(x))\n",
    "        return self.f(self.map3(x))"
   ]
  },
  {
   "cell_type": "code",
   "execution_count": 35,
   "metadata": {},
   "outputs": [],
   "source": [
    "#Define activationfunctions\n",
    "discriminator_activation_function = torch.sigmoid  #Standard sigmoid activation function\n",
    "generator_activation_function = torch.tanh    #Returns a new tensor with the hyperbolic tangent of the elements of input\n",
    "\n",
    "#Function to extract values from generated fake data\n",
    "def extract(v):\n",
    "    return v.data.storage().tolist()\n",
    "\n",
    "#Function to return the mean and standard deviation\n",
    "def stats(d):\n",
    "    return [np.mean(d), np.std(d)]\n",
    "\n"
   ]
  },
  {
   "cell_type": "code",
   "execution_count": 72,
   "metadata": {},
   "outputs": [
    {
     "name": "stdout",
     "output_type": "stream",
     "text": [
      "tensor([-0.1501,  0.0616,  0.0176, -1.2304], grad_fn=<CatBackward>)\n",
      "Without any training system believe the mean is:-0.1501 and standard deviation is: 0.0616\n"
     ]
    },
    {
     "data": {
      "image/png": "[encoded data removed]",
      "text/plain": [
       "<Figure size 432x288 with 1 Axes>"
      ]
     },
     "metadata": {
      "needs_background": "light"
     },
     "output_type": "display_data"
    }
   ],
   "source": [
    "def get_generator_input_sampler():\n",
    "    return lambda m, n: torch.rand(m, n)  # Random numbers between 0 and 1 in a m x n matrix.\n",
    "\n",
    "gi_sampler = get_generator_input_sampler()\n",
    "\n",
    "G = Generator(input_size=g_input_size,\n",
    "                  hidden_size=g_hidden_size,\n",
    "                  output_size=g_output_size,\n",
    "                  f=generator_activation_function)\n",
    "\n",
    "gen_input = Variable(gi_sampler(minibatch_size, g_input_size))\n",
    "\n",
    "g_fake_data = G(gen_input)\n",
    "\n",
    "values = extract(g_fake_data)\n",
    "\n",
    "mean, standard = stats(values)\n",
    "\n",
    "print(preprocess(g_fake_data))\n",
    "\n",
    "print(\"Without any training system believe the mean is:{:.4f} and standard deviation is: {:.4f}\".format(mean, standard))\n",
    "\n",
    "plt.hist(values, bins=100)\n",
    "plt.xlabel(\"Generative fake samples\")\n",
    "plt.show()"
   ]
  },
  {
   "cell_type": "code",
   "execution_count": 73,
   "metadata": {},
   "outputs": [],
   "source": [
    "'''Define discriminator'''\n",
    "D = Discriminator(input_size=d_input_func(d_input_size),\n",
    "                      hidden_size=d_hidden_size,\n",
    "                      output_size=d_output_size,\n",
    "                      f=discriminator_activation_function)\n",
    "#Have the same starting sizes, weigths and biases as the generator but a sigmoid function instead"
   ]
  },
  {
   "cell_type": "code",
   "execution_count": 77,
   "metadata": {},
   "outputs": [],
   "source": [
    "criterion = nn.BCELoss()  # Binary cross entropy: http://pytorch.org/docs/nn.html#bceloss\n",
    "#Costfunction from pytorch"
   ]
  },
  {
   "cell_type": "code",
   "execution_count": 78,
   "metadata": {},
   "outputs": [
    {
     "name": "stdout",
     "output_type": "stream",
     "text": [
      "tensor([0.4836], grad_fn=<SigmoidBackward>)\n"
     ]
    },
    {
     "name": "stderr",
     "output_type": "stream",
     "text": [
      "C:\\Users\\Jonatan Nordh\\AppData\\Local\\conda\\conda\\envs\\python36\\lib\\site-packages\\torch\\nn\\functional.py:2016: UserWarning: Using a target size (torch.Size([1, 1])) that is different to the input size (torch.Size([1])) is deprecated. Please ensure they have the same size.\n",
      "  \"Please ensure they have the same size.\".format(target.size(), input.size()))\n"
     ]
    }
   ],
   "source": [
    "'''Compute error of generated model'''\n",
    "\n",
    "dg_fake_decision = D(preprocess(g_fake_data.t()))  #Returns 4 first moments\n",
    "print(dg_fake_decision)\n",
    "g_error = criterion(dg_fake_decision, Variable(torch.ones([1,1])))  # Train G to pretend it's genuine\n"
   ]
  }
 ],
 "metadata": {
  "kernelspec": {
   "display_name": "Python 3",
   "language": "python",
   "name": "python3"
  },
  "language_info": {
   "codemirror_mode": {
    "name": "ipython",
    "version": 3
   },
   "file_extension": ".py",
   "mimetype": "text/x-python",
   "name": "python",
   "nbconvert_exporter": "python",
   "pygments_lexer": "ipython3",
   "version": "3.6.8"
  }
 },
 "nbformat": 4,
 "nbformat_minor": 2
}
