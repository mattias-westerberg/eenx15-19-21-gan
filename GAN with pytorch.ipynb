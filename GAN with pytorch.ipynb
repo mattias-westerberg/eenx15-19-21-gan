{
 "cells": [
  {
   "cell_type": "code",
   "execution_count": 11,
   "metadata": {},
   "outputs": [],
   "source": [
    "'''GAN'''\n",
    "\n",
    "#Import necessery packages\n",
    "\n",
    "matplotlib_is_available = True\n",
    "\n",
    "try:\n",
    "    import numpy as np\n",
    "    import torch\n",
    "    import torch.nn as nn\n",
    "    import torch.optim as optim\n",
    "    from torch.autograd import Variable\n",
    "    from matplotlib import pyplot as plt\n",
    "except ImportError:\n",
    "    print(\"Packages could not be imported\")\n",
    "    matplotlib_is_available = False\n",
    "\n"
   ]
  },
  {
   "cell_type": "code",
   "execution_count": 2,
   "metadata": {},
   "outputs": [],
   "source": [
    "#Set the function parameters and other data\n",
    "data_mean = 4\n",
    "data_stddev = 1.25\n",
    "\n",
    "#Set the initial data for the CNN-network data in terms of dimensions to use in input, one layer and output.\n",
    "\n",
    "g_input_size = 1      # Random noise dimension coming into generator, per output vector\n",
    "g_hidden_size = 5     # Generator complexity\n",
    "g_output_size = 1     # Size of generated output vector\n",
    "d_input_size = 500    # Minibatch size - cardinality of distributions\n",
    "d_hidden_size = 10    # Discriminator complexity\n",
    "d_output_size = 1     # Single dimension for 'real' vs. 'fake' classification\n",
    "\n",
    "minibatch_size = d_input_size"
   ]
  },
  {
   "cell_type": "code",
   "execution_count": 3,
   "metadata": {},
   "outputs": [
    {
     "name": "stdout",
     "output_type": "stream",
     "text": [
      "Using data [Only 4 moments]\n"
     ]
    }
   ],
   "source": [
    "#Define preprocess function \n",
    "\n",
    "def get_moments(d):\n",
    "    # Return the first 4 moments of the data provided\n",
    "    mean = torch.mean(d)\n",
    "    diffs = d - mean #Calculate difference between each value and the mean of the values\n",
    "    var = torch.mean(torch.pow(diffs, 2.0)) #torch.pow(diffs, 2.0) is same as diff**2 for every element\n",
    "    std = torch.pow(var, 0.5) \n",
    "    zscores = diffs / std\n",
    "    skews = torch.mean(torch.pow(zscores, 3.0))\n",
    "    kurtoses = torch.mean(torch.pow(zscores, 4.0)) - 3.0  # excess kurtosis, should be 0 for Gaussian\n",
    "    final = torch.cat((mean.reshape(1,), std.reshape(1,), skews.reshape(1,), kurtoses.reshape(1,)))\n",
    "    return final\n",
    "\n",
    "### Select preprocess to be get_moments(d) and discriminator input function to be x=4\n",
    "\n",
    "(name, preprocess, d_input_func) = (\"Only 4 moments\", lambda data: get_moments(data), lambda x: 4)\n",
    "\n",
    "print(\"Using data [%s]\" % (name))\n"
   ]
  },
  {
   "cell_type": "markdown",
   "metadata": {},
   "source": [
    "\n",
    "\n",
    "\\begin{align}\n",
    "\\text{standard deviation} = \\sqrt{\\frac{1}{N} \\sum_{i=1}^N (x_i - \\overline{x})^2} \\newline\n",
    "\\text{var} = \\frac{1}{N} \\sum_{i=1}^N (\\text{diffs})^2 \\newline\n",
    "\\text{std = stamdard deviation} = \\sqrt{\\frac{1}{N} \\sum_{i=1}^N (\\text{diffs})^2} \\newline\n",
    "\\text{zscores} = \\frac{\\text{diffs}}{\\text{std}} \\newline\n",
    "\\text{skews} = \\frac{\\sum_{i=1}^N \\text{zscores}_i^3}{N} \\newline\n",
    "kurtoses = mean(zscores^4)-3 \\newline\n",
    "\\text{final} = (mean value, standard deviation, skews, kurtoses)\n",
    "\\end{align}\n",
    " \n",
    " zscores is how much each datapoint differs from the standard deviation.\n",
    " \n",
    " Skewness is a measure of the symmetry in a distribution. \n",
    " \n",
    " Kurtosis is a measure of the combined sizes of the two tails. It measures the amount of probability in the tails. \n",
    " \n",
    " Theese numbers are saved in an list \"final\"."
   ]
  },
  {
   "cell_type": "code",
   "execution_count": 4,
   "metadata": {},
   "outputs": [],
   "source": [
    "#Define activationfunctions\n",
    "discriminator_activation_function = torch.sigmoid  #Standard sigmoid activation function\n",
    "generator_activation_function = torch.tanh    #Returns a new tensor with the hyperbolic tangent of the elements of input\n",
    "\n",
    "#Function to extract values from generated fake data in a list\n",
    "def extract(v):\n",
    "    return v.data.storage().tolist()\n",
    "\n",
    "#Function to return the mean and standard deviation as numpy arrays\n",
    "def stats(d):\n",
    "    return [np.mean(d), np.std(d)]\n",
    "\n"
   ]
  },
  {
   "cell_type": "code",
   "execution_count": 5,
   "metadata": {},
   "outputs": [],
   "source": [
    "# ##### DATA: Target data and generator input data\n",
    "\n",
    "def get_distribution_sampler(mean, standard):\n",
    "    return lambda n: torch.Tensor(np.random.normal(mean, standard, (1, n)))  # Random numbers with stated mean and standard deviation\n",
    "\n",
    "def get_generator_input_sampler():\n",
    "    return lambda m, n: torch.rand(m, n)  # Random numbers between 0 and 1 in a m x n matrix.\n"
   ]
  },
  {
   "cell_type": "code",
   "execution_count": 6,
   "metadata": {},
   "outputs": [
    {
     "name": "stdout",
     "output_type": "stream",
     "text": [
      "The distributed data can have; Mean: 3.911 and standard deviation is: 1.301 \n",
      " The skewness is: -0.192 and kurtotis is: -0.124 \n"
     ]
    },
    {
     "data": {
      "image/png": "[encoded data removed]",
      "text/plain": [
       "<Figure size 432x288 with 1 Axes>"
      ]
     },
     "metadata": {
      "needs_background": "light"
     },
     "output_type": "display_data"
    }
   ],
   "source": [
    "#Show how the distributed data looks like\n",
    "dist_func = get_distribution_sampler(data_mean, data_stddev) #Get the distributed values, amount: \n",
    "\n",
    "dist_real_data = dist_func(d_input_size)\n",
    "\n",
    "mean, standard, skew, kurt = extract(preprocess(dist_real_data))\n",
    "\n",
    "print(\"The distributed data can have; Mean: {:.3f} and standard deviation is: {:.3f} \\n The skewness is: {:.3f} and kurtotis is: {:.3f} \".format(mean, standard, skew, kurt))\n",
    "plt.hist(dist_real_data)\n",
    "plt.xlabel(\"An example of the distribution samples\")\n",
    "plt.legend(['Bell curve aim for: \\n Mean = 4 \\n Deviatiation = 1.25'], loc='best')\n",
    "plt.show()"
   ]
  },
  {
   "cell_type": "code",
   "execution_count": 7,
   "metadata": {},
   "outputs": [],
   "source": [
    "'''Construct class Generator'''\n",
    "\n",
    "class Generator(nn.Module):\n",
    "    def __init__(self, input_size, hidden_size, output_size, f):  #Input generator input size, generator complexity \n",
    "        super(Generator, self).__init__()                     #Output size and torch.tanh function (1 dimension in input and output)\n",
    "        self.map1 = nn.Linear(input_size, hidden_size) #The sizes are the weigths and biases\n",
    "        self.map2 = nn.Linear(hidden_size, hidden_size)\n",
    "        self.map3 = nn.Linear(hidden_size, output_size)\n",
    "        self.f = f\n",
    "        '''Applies a linear transformation to the incoming data: y = xA^T + b\n",
    "        Parameters:\t\n",
    "        in_features – size of each input sample\n",
    "        out_features – size of each output sample'''\n",
    "    def forward(self, x):   #Calculating size of inpput, hidden and output - layers. Using forward propegation\n",
    "        x = self.map1(x)        #convolutional\n",
    "        x = self.f(x)           #Activation\n",
    "        x = self.map2(x)        #Convolutional\n",
    "        x = self.f(x)           #Activation\n",
    "        x = self.map3(x)        #Convolutional\n",
    "        return x\n",
    "    \n",
    "        #Explination of input/output from nn.Linear method\n",
    "        '''Input: (N, *, in_features) where * means any number of additional dimensions\n",
    "            Output: (N, *, out_features) where all but the last dimension are the same shape as the input.'''\n",
    "        \n",
    "        '''Futher explination about the torch.nn.Linear'''\n",
    "        '''https://pytorch.org/docs/stable/nn.html#linear'''"
   ]
  },
  {
   "cell_type": "code",
   "execution_count": 8,
   "metadata": {},
   "outputs": [],
   "source": [
    "'''Construct class Discriminator'''\n",
    "class Discriminator(nn.Module):\n",
    "    def __init__(self, input_size, hidden_size, output_size, f):\n",
    "        super(Discriminator, self).__init__()\n",
    "        self.map1 = nn.Linear(input_size, hidden_size)\n",
    "        self.map2 = nn.Linear(hidden_size, hidden_size)\n",
    "        self.map3 = nn.Linear(hidden_size, output_size)\n",
    "        self.f = f\n",
    "\n",
    "    def forward(self, x):\n",
    "        x = self.f(self.map1(x))     #Convolutional + activation\n",
    "        x = self.f(self.map2(x))     #Convolutional + activation\n",
    "        return self.f(self.map3(x))  #Convolutional + activation   ===> Same as Generator but more compact"
   ]
  },
  {
   "cell_type": "code",
   "execution_count": 20,
   "metadata": {},
   "outputs": [
    {
     "name": "stdout",
     "output_type": "stream",
     "text": [
      "Without any training system believe the mean is:0.123 and standard deviation is: 0.025 \n",
      " The skewness is: -0.097 and kurtotis is: -1.291 \n"
     ]
    },
    {
     "data": {
      "image/png": "[encoded data removed]",
      "text/plain": [
       "<Figure size 432x288 with 1 Axes>"
      ]
     },
     "metadata": {
      "needs_background": "light"
     },
     "output_type": "display_data"
    }
   ],
   "source": [
    "#Show how generated data can look like without any training\n",
    "gi_sampler = get_generator_input_sampler()\n",
    "\n",
    "G = Generator(input_size=g_input_size,\n",
    "                  hidden_size=g_hidden_size,\n",
    "                  output_size=g_output_size,\n",
    "                  f=generator_activation_function)\n",
    "\n",
    "gen_input = Variable(gi_sampler(minibatch_size, g_input_size))\n",
    "\n",
    "g_fake_data = G(gen_input)\n",
    "\n",
    "mean, standard, skew, kurt = extract(preprocess(g_fake_data))\n",
    "\n",
    "print(\"Without any training system believe the mean is:{:.3f} and standard deviation is: {:.3f} \\n The skewness is: {:.3f} and kurtotis is: {:.3f} \".format(mean, standard, skew, kurt))\n",
    "\n",
    "plt.hist(extract(g_fake_data), bins=100)\n",
    "plt.xlabel(\"Generative fake samples\")\n",
    "plt.show()"
   ]
  },
  {
   "cell_type": "code",
   "execution_count": 21,
   "metadata": {},
   "outputs": [],
   "source": [
    "## The training function\n",
    "\n",
    "def train():\n",
    "    # Model parameters\n",
    "    g_input_size = 1      # Random noise dimension coming into generator, per output vector\n",
    "    g_hidden_size = 5     # Generator complexity\n",
    "    g_output_size = 1     # Size of generated output vector\n",
    "    d_input_size = 500    # Minibatch size - cardinality of distributions - 500\n",
    "    d_hidden_size = 10    # Discriminator complexity\n",
    "    d_output_size = 1     # Single dimension for 'real' vs. 'fake' classification\n",
    "    minibatch_size = d_input_size\n",
    "\n",
    "    d_learning_rate = 1e-3     #The step size calculated by gradient descent\n",
    "    g_learning_rate = 1e-3\n",
    "    sgd_momentum = 0.9         #Parameter that changes how frequent a matched curve should have, increase the width\n",
    "\n",
    "    num_epochs = 2000   #Number of learning loops, 5000 is standard, 2000 is enough to learn okey\n",
    "    print_interval = 100\n",
    "    d_steps = 20     #Number of runs to just optimize the discriminator\n",
    "    g_steps = 20     # -- ll --- generator\n",
    "    \n",
    "    dfe, dre, ge = 0, 0, 0   #dfe = Distributed fake error   dre = Distributed real error    ge = generated error\n",
    "    d_real_data, d_fake_data, g_fake_data = None, None, None\n",
    "\n",
    "    discriminator_activation_function = torch.sigmoid   #activationfunctions \n",
    "    generator_activation_function = torch.tanh\n",
    "\n",
    "    d_sampler = get_distribution_sampler(data_mean, data_stddev)  #Get real distribution\n",
    "    gi_sampler = get_generator_input_sampler()                    #Get random noise\n",
    "    \n",
    "    G = Generator(input_size=g_input_size,                        #Generator design with three linear layers\n",
    "                  hidden_size=g_hidden_size,                     \n",
    "                  output_size=g_output_size,\n",
    "                  f=generator_activation_function)\n",
    "    \n",
    "    D = Discriminator(input_size=d_input_func(d_input_size),     #Discriminator design same as genertors\n",
    "                      hidden_size=d_hidden_size,\n",
    "                      output_size=d_output_size,\n",
    "                      f=discriminator_activation_function)\n",
    "    \n",
    "    #Define cost function\n",
    "    criterion = nn.BCELoss()  # Binary cross entropy: http://pytorch.org/docs/nn.html#bceloss\n",
    "    #Takes two input arguments, the first is the networks decision and the other one the true answear. The function calculates \n",
    "    #the loss between the two values.\n",
    "    \n",
    "    #Define distributer and generator optimizers\n",
    "    #Implements stochastic gradient descent (optionally with momentum, but it is recomended with momentum = 0.9)\n",
    "    d_optimizer = optim.SGD(D.parameters(), lr=d_learning_rate, momentum=sgd_momentum)\n",
    "    g_optimizer = optim.SGD(G.parameters(), lr=g_learning_rate, momentum=sgd_momentum)\n",
    "    \n",
    "    \n",
    "    \n",
    "\n",
    "    for epoch in range(num_epochs):   #Loop over all epochs\n",
    "        for d_index in range(d_steps):    #Only optimize the discriminator for desired number of loops\n",
    "            # 1. Train D on real+fake\n",
    "            D.zero_grad()\n",
    "\n",
    "            #  1A: Train D on real\n",
    "            d_real_data = Variable(d_sampler(d_input_size)) #create some random correct data\n",
    "            d_real_decision = D(preprocess(d_real_data))    #Discriminator decides if real data is real\n",
    "            d_real_error = criterion(d_real_decision, Variable(torch.ones([1,1])))  # ones = true, cost function gives the error\n",
    "            d_real_error.backward() # compute/store gradients, but don't change params\n",
    "\n",
    "            #  1B: Train D on fake\n",
    "            d_gen_input = Variable(gi_sampler(minibatch_size, g_input_size)) #Create fake data (noise)\n",
    "            d_fake_data = G(d_gen_input).detach()  #Generates fake data, detach to avoid training G on these labels\n",
    "            d_fake_decision = D(preprocess(d_fake_data.t())) #Discriminator decides if fake data is real\n",
    "            d_fake_error = criterion(d_fake_decision, Variable(torch.zeros([1,1])))  #Save decision and true answear, zeros = fake\n",
    "            d_fake_error.backward()  #Stores gradient to tell direction for the best improvements\n",
    "            d_optimizer.step()     # Only optimizes D's parameters; changes based on stored gradients from backward()\n",
    "\n",
    "            dre, dfe = extract(d_real_error)[0], extract(d_fake_error)[0] #Assign in order to print errors later\n",
    "\n",
    "        for g_index in range(g_steps):\n",
    "            # 2. Train G on D's response (but DO NOT train D on these labels)\n",
    "            G.zero_grad()\n",
    "\n",
    "            gen_input = Variable(gi_sampler(minibatch_size, g_input_size)) #Create som random noise for the generator\n",
    "            g_fake_data = G(gen_input) #Generate fake data of the input noise\n",
    "            dg_fake_decision = D(preprocess(g_fake_data.t()))  #Descriminator decides wether generated data is real or fake\n",
    "            g_error = criterion(dg_fake_decision, Variable(torch.ones([1,1])))  # Calculate the cost between the true answear = 1\n",
    "            #and the fake answear = dg_fake_decision with nn.BCEloss(dg_fake_decision, 1)\n",
    "\n",
    "            g_error.backward()   #Save the gradient for best improvement for G on D's response\n",
    "            g_optimizer.step()  # Optimizes G depending on the gradient calculated in .backward(). \n",
    "                                 #Changes values in size of g_learning_rate\n",
    "            ge = extract(g_error)[0]  #Save generated error in order to calculate it\n",
    "\n",
    "        if epoch % print_interval == 0:\n",
    "            print(\"Epoch %s: D (%s real_err, %s fake_err) G (%s err); Real Dist (%s),  Fake Dist (%s) \" %\n",
    "                  (epoch, dre, dfe, ge, stats(extract(d_real_data)), stats(extract(d_fake_data))))\n",
    "\n",
    "    if matplotlib_is_available:\n",
    "        print(\"Plotting the generated distribution...\")\n",
    "        values = extract(g_fake_data)\n",
    "        print(\" Values: %s\" % (str(values)))\n",
    "        plt.hist(values, bins=50)\n",
    "        plt.xlabel('Value')\n",
    "        plt.ylabel('Count')\n",
    "        plt.title('Histogram of Generated Distribution')\n",
    "        plt.grid(True)\n",
    "        plt.show()\n"
   ]
  },
  {
   "cell_type": "code",
   "execution_count": 19,
   "metadata": {},
   "outputs": [
    {
     "name": "stdout",
     "output_type": "stream",
     "text": [
      "Epoch 0: D (0.9188041090965271 real_err, 0.5077190399169922 fake_err) G (0.9174132347106934 err); Real Dist ([4.016131082773208, 1.2693787264912735]),  Fake Dist ([0.07929776197671891, 0.04581590853912122]) \n",
      "Epoch 20: D (0.6812214851379395 real_err, 0.6743196249008179 fake_err) G (0.7122272849082947 err); Real Dist ([3.846702688217163, 1.2979507305379185]),  Fake Dist ([0.11985904467105865, 0.04680153267139585]) \n",
      "Epoch 40: D (0.6457257270812988 real_err, 0.6493307948112488 fake_err) G (0.7388244271278381 err); Real Dist ([3.9944289039596916, 1.2657324831649026]),  Fake Dist ([0.28775036734342574, 0.04885718903291781]) \n",
      "Epoch 60: D (0.5923328995704651 real_err, 0.6083709001541138 fake_err) G (0.773888111114502 err); Real Dist ([3.916284317925572, 1.258076732795935]),  Fake Dist ([0.8868897527456283, 0.03606688050936401]) \n",
      "Epoch 80: D (0.6000878810882568 real_err, 0.6186971664428711 fake_err) G (0.7730740308761597 err); Real Dist ([3.9384392979294063, 1.2189075485892078]),  Fake Dist ([2.307134687423706, 0.017421391671146345]) \n",
      "Epoch 100: D (0.6234137415885925 real_err, 0.5816309452056885 fake_err) G (0.8161983489990234 err); Real Dist ([4.032319202274084, 1.2290508444509394]),  Fake Dist ([4.0936374206542965, 0.020602546543342964]) \n",
      "Epoch 120: D (0.5050546526908875 real_err, 0.46839141845703125 fake_err) G (0.9816020131111145 err); Real Dist ([4.067442856311798, 1.2414934328768887]),  Fake Dist ([5.451834638595581, 0.020777387947128634]) \n",
      "Epoch 140: D (0.2610155940055847 real_err, 0.26916012167930603 fake_err) G (1.4563422203063965 err); Real Dist ([4.0633313211798665, 1.2460028110799264]),  Fake Dist ([5.816346546173095, 0.022729051098088718]) \n",
      "Epoch 160: D (0.12484954297542572 real_err, 0.14749665558338165 fake_err) G (1.969817876815796 err); Real Dist ([4.032799848288298, 1.2414827527113241]),  Fake Dist ([4.717881994247437, 0.037470128029815634]) \n",
      "Epoch 180: D (0.10901614278554916 real_err, 0.11434853076934814 fake_err) G (2.133089542388916 err); Real Dist ([4.069786965876817, 1.2435053146507737]),  Fake Dist ([2.1915980801582338, 0.11391493689854572]) \n",
      "Epoch 200: D (0.3597974181175232 real_err, 0.33097538352012634 fake_err) G (1.0637011528015137 err); Real Dist ([4.0365347906854, 1.3801257112199778]),  Fake Dist ([0.6641670365333557, 0.21434837365365728]) \n",
      "Epoch 220: D (0.8076772093772888 real_err, 0.6504030823707581 fake_err) G (0.7143120169639587 err); Real Dist ([4.078108241796493, 1.251311462070477]),  Fake Dist ([5.637099908828735, 2.235844865222896]) \n",
      "Epoch 240: D (0.45701950788497925 real_err, 0.483868271112442 fake_err) G (0.919418454170227 err); Real Dist ([3.9827142413258554, 1.1946312751265626]),  Fake Dist ([8.374716680526733, 0.4973337082512787]) \n",
      "Epoch 260: D (0.6551581025123596 real_err, 0.6617969870567322 fake_err) G (0.7264858484268188 err); Real Dist ([3.948224028736353, 1.2854773565491813]),  Fake Dist ([1.5193412313461303, 2.5619402963382534]) \n",
      "Epoch 280: D (0.6259016990661621 real_err, 0.5640208721160889 fake_err) G (0.7866451740264893 err); Real Dist ([3.9280806573182345, 1.2218691078091495]),  Fake Dist ([4.75071991443634, 2.1946228705863344]) \n",
      "Epoch 300: D (0.5329970121383667 real_err, 0.5647721290588379 fake_err) G (0.7119863033294678 err); Real Dist ([3.955585213214159, 1.2397002244594035]),  Fake Dist ([9.060494692802429, 1.4745372535957644]) \n",
      "Epoch 320: D (0.6361891627311707 real_err, 0.5819763541221619 fake_err) G (0.789245069026947 err); Real Dist ([4.066099870562553, 1.244237295251793]),  Fake Dist ([6.736244733810425, 2.3399470274500547]) \n",
      "Epoch 340: D (0.376892626285553 real_err, 0.30078309774398804 fake_err) G (0.9530670046806335 err); Real Dist ([3.830583641529083, 1.1742144841463305]),  Fake Dist ([2.1063774003982543, 1.5605879809546477]) \n",
      "Epoch 360: D (0.4263998866081238 real_err, 0.4551607072353363 fake_err) G (0.6378173232078552 err); Real Dist ([4.051443718969822, 1.2097548097561823]),  Fake Dist ([7.357840920448303, 0.6592421402596403]) \n",
      "Epoch 380: D (0.3737659454345703 real_err, 0.3788542151451111 fake_err) G (1.0284212827682495 err); Real Dist ([3.9607018535137177, 1.210320511026047]),  Fake Dist ([2.8396880363225936, 2.2804113498417715]) \n",
      "Epoch 400: D (0.08220269531011581 real_err, 0.2136799544095993 fake_err) G (0.7339115738868713 err); Real Dist ([3.99258499622345, 1.2653139711069106]),  Fake Dist ([-0.4896285846233368, 2.053764378786215]) \n",
      "Epoch 420: D (0.32708221673965454 real_err, 0.25403618812561035 fake_err) G (0.9559227824211121 err); Real Dist ([3.9426076556723566, 1.2413921014063856]),  Fake Dist ([7.662789134025574, 0.2374804996619497]) \n",
      "Epoch 440: D (0.6517947316169739 real_err, 0.5325747132301331 fake_err) G (0.7284775376319885 err); Real Dist ([3.9964136837124826, 1.2528937076552398]),  Fake Dist ([5.34299723815918, 1.2011288690331468]) \n",
      "Epoch 460: D (0.47326335310935974 real_err, 0.48501789569854736 fake_err) G (0.9210415482521057 err); Real Dist ([3.953858908176422, 1.1957121756625946]),  Fake Dist ([2.0466133569814264, 1.5198890991483172]) \n",
      "Epoch 480: D (0.44611895084381104 real_err, 0.3595099449157715 fake_err) G (1.1079179048538208 err); Real Dist ([3.9702154717538507, 1.2270339932097796]),  Fake Dist ([5.62685204577446, 2.1351022763464504]) \n",
      "Plotting the generated distribution...\n",
      " Values: [5.472391605377197, 5.393155574798584, 5.437021732330322, 5.411606311798096, 5.381473064422607, 5.80762243270874, 5.3589582443237305, 5.405441761016846, 5.74647855758667, 5.965043067932129, 6.4554057121276855, 5.381755352020264, 5.976789474487305, 5.402632236480713, 5.375519275665283, 5.381398677825928, 5.400940895080566, 5.76729154586792, 6.369822025299072, 5.340777397155762, 5.38134241104126, 5.367761611938477, 6.375035285949707, 6.167966365814209, 5.562925815582275, 5.334903717041016, 5.883994102478027, 5.4550981521606445, 5.35820198059082, 5.380854606628418, 5.880302906036377, 5.48370885848999, 5.381500720977783, 5.411273002624512, 6.499148845672607, 5.381321430206299, 5.437140464782715, 5.460691452026367, 5.427265167236328, 5.381375789642334, 5.329666614532471, 5.71111536026001, 5.526331424713135, 5.524428367614746, 5.368289947509766, 6.210785865783691, 5.586878299713135, 6.014754772186279, 5.556390285491943, 5.405961036682129, 5.639029026031494, 6.250763416290283, 6.312769889831543, 5.9739532470703125, 6.318356513977051, 5.3762383460998535, 5.374284267425537, 5.381661891937256, 5.383049488067627, 5.412411689758301, 5.386006832122803, 5.425345420837402, 5.945094585418701, 5.340386390686035, 5.45681619644165, 6.165755748748779, 5.3398637771606445, 5.462734222412109, 5.325094223022461, 5.7020087242126465, 5.347654342651367, 5.330369472503662, 5.956020832061768, 5.923056125640869, 6.189101696014404, 5.482677459716797, 5.370110511779785, 5.4225897789001465, 5.385166645050049, 6.021904468536377, 5.338675022125244, 5.382683753967285, 5.992586135864258, 5.3416829109191895, 5.568089962005615, 5.512831211090088, 5.354940414428711, 5.785755634307861, 5.843466281890869, 5.737854480743408, 5.36874532699585, 5.376926898956299, 5.449337959289551, 5.381383419036865, 5.379378795623779, 5.378803730010986, 5.494778156280518, 5.38137149810791, 5.352628707885742, 5.473713397979736, 5.3698554039001465, 5.405484676361084, 5.665492057800293, 5.408400058746338, 5.456422805786133, 5.360932350158691, 5.381358623504639, 5.897304534912109, 5.710170745849609, 5.587369441986084, 6.344654560089111, 5.333689212799072, 5.839901447296143, 5.3204665184021, 5.3634138107299805, 5.4057230949401855, 6.0904316902160645, 6.342799663543701, 5.358077526092529, 5.683158874511719, 6.3955841064453125, 5.549013137817383, 6.106038570404053, 6.420331954956055, 5.325207710266113, 5.415218830108643, 5.548277378082275, 5.401378631591797, 5.350203514099121, 5.7135491371154785, 5.376154899597168, 5.405834197998047, 5.372361183166504, 5.851022243499756, 5.99570894241333, 5.350289821624756, 5.345851421356201, 5.384777545928955, 5.381906032562256, 6.454730033874512, 5.478018283843994, 5.379134654998779, 5.425108432769775, 5.381511211395264, 5.3814592361450195, 5.381148338317871, 5.555721759796143, 5.369247913360596, 5.391859531402588, 5.611033916473389, 5.413119316101074, 5.525446891784668, 5.395087718963623, 5.375259876251221, 5.462101936340332, 5.760650634765625, 5.385831356048584, 6.430002212524414, 5.721856117248535, 5.608554840087891, 5.3714118003845215, 5.323351860046387, 5.3339433670043945, 5.501497745513916, 5.389257907867432, 6.332430362701416, 5.484337329864502, 5.401429653167725, 5.434874057769775, 5.385822296142578, 5.446222305297852, 5.379854679107666, 5.380035877227783, 5.325743198394775, 5.408980369567871, 5.369567394256592, 5.324653625488281, 5.322652339935303, 5.348165512084961, 5.3778252601623535, 5.44132661819458, 5.421205997467041, 5.402544975280762, 5.363054275512695, 5.389504909515381, 6.116207122802734, 5.381865978240967, 5.378458499908447, 5.360998630523682, 5.332815170288086, 5.3782877922058105, 5.479892730712891, 5.408424377441406, 5.366358757019043, 5.410313606262207, 5.628544807434082, 5.379264831542969, 5.381455898284912, 5.381349563598633, 5.458809852600098, 5.501835346221924, 6.457383632659912, 5.374711513519287, 5.7664289474487305, 5.490601539611816, 5.341560363769531, 5.656275749206543, 5.387576580047607, 5.38186502456665, 5.414178371429443, 5.381386756896973, 5.369217395782471, 5.512002468109131, 6.255753993988037, 5.380192279815674, 5.495331764221191, 5.458127975463867, 5.348395824432373, 6.362905979156494, 5.380730152130127, 5.379112720489502, 5.9580793380737305, 5.530044078826904, 5.446783542633057, 5.374032497406006, 5.373965740203857, 6.117035865783691, 5.381396293640137, 5.378921031951904, 6.0825066566467285, 5.361029148101807, 5.747744560241699, 5.395707130432129, 5.623133182525635, 5.339624881744385, 5.480273723602295, 6.257154941558838, 5.321566581726074, 5.381107807159424, 5.327493190765381, 5.327269077301025, 5.740803241729736, 5.387149333953857, 5.382531642913818, 6.426854610443115, 5.622268199920654, 5.844895839691162, 5.894235610961914, 5.671431541442871, 5.382495880126953, 5.332057476043701, 5.374966621398926, 5.380669593811035, 5.406801223754883, 5.380529880523682, 5.54722261428833, 5.381527423858643, 5.4246063232421875, 5.628442287445068, 5.37498140335083, 5.380576133728027, 5.396644115447998, 5.38242769241333, 5.557997703552246, 5.3816328048706055, 5.474294185638428, 5.471958637237549, 5.431216716766357, 5.694101810455322, 5.356678009033203, 5.342555522918701, 5.374429225921631, 5.597228050231934, 5.381394386291504, 5.509166240692139, 5.37818717956543, 6.014739990234375, 5.378310203552246, 5.505012035369873, 5.380136013031006, 5.401001453399658, 5.378320217132568, 5.521834850311279, 5.36348295211792, 5.567470073699951, 5.866468906402588, 6.474170207977295, 5.37642765045166, 6.447768211364746, 5.337325572967529, 5.381494998931885, 5.3826398849487305, 5.381436347961426, 5.966071128845215, 5.325304985046387, 5.629424095153809, 5.374780654907227, 5.358004093170166, 5.355781555175781, 5.804070949554443, 6.302859306335449, 5.467841148376465, 5.906368732452393, 5.768685817718506, 5.370542049407959, 5.621685981750488, 5.382941722869873, 5.768692493438721, 5.4183878898620605, 6.297455787658691, 5.922779560089111, 5.373539447784424, 5.41485595703125, 5.3573079109191895, 5.425843238830566, 5.887546062469482, 5.564611911773682, 6.256713390350342, 5.782937526702881, 5.381359577178955, 5.381373882293701, 5.508749485015869, 5.813333511352539, 5.628106594085693, 5.326938629150391, 5.733232498168945, 5.36898946762085, 5.596153736114502, 5.672465801239014, 5.338906764984131, 5.391078472137451, 5.483811378479004, 5.396005153656006, 5.3858795166015625, 5.852219104766846, 5.327104568481445, 5.569427013397217, 5.6425700187683105, 5.379759311676025, 5.545751571655273, 5.381509304046631, 5.8283467292785645, 5.382181644439697, 5.361388683319092, 5.778290271759033, 5.610713958740234, 5.602690696716309, 5.379396915435791, 5.38134241104126, 5.380603790283203, 5.357184886932373, 5.381343841552734, 5.654987335205078, 5.3839111328125, 5.380014896392822, 5.943109035491943, 5.467589378356934, 5.498514652252197, 5.50515079498291, 5.378507137298584, 5.486021995544434, 6.338196754455566, 5.836423873901367, 6.005335807800293, 5.547947406768799, 5.404801845550537, 5.43956995010376, 6.488439559936523, 6.277750015258789, 5.3937201499938965, 5.765921592712402, 5.364978313446045, 5.439755439758301, 5.589006423950195, 5.838563919067383, 5.421111106872559, 5.381271839141846, 5.369339942932129, 5.335018157958984, 5.445063591003418, 5.381341934204102, 5.387528896331787, 5.355550289154053, 5.372128963470459, 6.443149089813232, 5.98620080947876, 5.539591312408447, 5.393516540527344, 5.409958362579346, 5.373612880706787, 5.380553245544434, 5.376964569091797, 6.182886123657227, 5.411935806274414, 5.991017818450928, 5.327320575714111, 6.0922532081604, 5.843171119689941, 5.397237777709961, 5.364518642425537, 5.362239360809326, 5.440820693969727, 5.3836283683776855, 5.382382869720459, 5.377979278564453, 5.381436824798584, 5.3727545738220215, 5.363876819610596, 5.893877029418945, 5.384598731994629, 5.350955486297607, 5.376718521118164, 6.382143020629883, 6.010775566101074, 5.381205081939697, 5.385977745056152, 5.7943854331970215, 5.407573223114014, 5.512083053588867, 5.629063606262207, 5.802545070648193, 5.396022796630859, 5.789855480194092, 5.467784881591797, 6.022470474243164, 5.396030902862549, 6.009000778198242, 5.313683032989502, 5.4796037673950195, 5.978553771972656, 6.14351224899292, 5.383362293243408, 5.38136100769043, 5.435959815979004, 6.359152317047119, 5.918879508972168, 6.3364033699035645, 5.457340240478516, 5.3265910148620605, 5.374444961547852, 6.268082141876221, 5.372139930725098, 5.785957336425781, 5.5254435539245605, 5.381434917449951, 5.7885870933532715, 5.616741180419922, 5.38137674331665, 5.887507438659668, 5.442361354827881, 5.858728885650635, 5.354697227478027, 6.271174907684326, 5.486954689025879, 5.317366123199463, 5.567890167236328, 5.409937381744385, 6.318512439727783, 5.897464275360107, 5.381400108337402, 6.101305961608887, 5.423183441162109, 5.359333515167236, 5.975445747375488, 6.192636013031006, 5.38113260269165, 5.348410606384277, 5.461922645568848, 6.454183101654053, 5.731287956237793, 5.330459117889404, 5.385970115661621, 5.330160617828369, 5.3815813064575195, 6.177451133728027, 5.4544267654418945, 5.355717658996582, 5.778224945068359, 5.369377136230469, 5.391351699829102, 5.327288627624512, 5.3697357177734375, 5.513909816741943, 5.381396770477295, 5.382791996002197, 5.382149696350098, 5.474447250366211, 5.38126802444458, 6.304196834564209, 5.315362930297852, 5.384374618530273, 5.381384372711182, 6.381397247314453, 5.6829962730407715, 5.824006080627441, 5.657149791717529, 6.092135906219482, 5.393680572509766, 5.392763614654541, 5.348036289215088]\n"
     ]
    },
    {
     "data": {
      "image/png": "[encoded data removed]",
      "text/plain": [
       "<Figure size 432x288 with 1 Axes>"
      ]
     },
     "metadata": {
      "needs_background": "light"
     },
     "output_type": "display_data"
    }
   ],
   "source": [
    "#Train the network\n",
    "train()"
   ]
  }
 ],
 "metadata": {
  "kernelspec": {
   "display_name": "Python 3",
   "language": "python",
   "name": "python3"
  },
  "language_info": {
   "codemirror_mode": {
    "name": "ipython",
    "version": 3
   },
   "file_extension": ".py",
   "mimetype": "text/x-python",
   "name": "python",
   "nbconvert_exporter": "python",
   "pygments_lexer": "ipython3",
   "version": "3.6.8"
  }
 },
 "nbformat": 4,
 "nbformat_minor": 2
}
